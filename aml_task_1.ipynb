{
 "cells": [
  {
   "cell_type": "markdown",
   "metadata": {
    "colab_type": "text",
    "id": "eRdrQNF9B1ky"
   },
   "source": [
    "## TASK 1: PREDICT THE AGE OF A BRAIN FROM MRI FEATURES\n",
    "\n",
    "This task is primarily concerned with regression. However, we have perturbed the original MRI features in several ways. You will need to perform outlier detection, feature selection, and other preprocessing to achieve the best result.\n",
    "\n",
    "#### Data Description\n",
    "The data for this task contains the following files:\n",
    "\n",
    "X_train.csv - the training features \n",
    "\n",
    "y_train.csv - the training targets \n",
    "\n",
    "X_test.csv - the test features (you need to make predictions for these samples)\n",
    "\n",
    "sample.csv - a sample submission file in the correct format\n",
    "\n",
    "Each row in X_train.csv is one sample indexed by an id, so the first column contains the id. In addition to the id column, each sample has 833 features"
   ]
  },
  {
   "cell_type": "markdown",
   "metadata": {
    "colab_type": "text",
    "id": "NhZnQpJgB1k0"
   },
   "source": [
    "# Load Packages"
   ]
  },
  {
   "cell_type": "code",
   "execution_count": 1,
   "metadata": {
    "colab": {},
    "colab_type": "code",
    "id": "Rqy388F-B1k1"
   },
   "outputs": [],
   "source": [
    "import pandas as pd\n",
    "import numpy as np\n",
    "import matplotlib.pyplot as plt\n",
    "import sklearn.model_selection as modsel\n",
    "from sklearn import preprocessing\n",
    "import sklearn.linear_model as lm\n",
    "from sklearn.metrics import r2_score\n",
    "%matplotlib inline\n",
    "\n",
    "# load data\n",
    "X_validation_data = pd.read_csv(\"X_test.csv\")\n",
    "# sample = pd.read_csv(\"sample.csv\")\n",
    "X_data = pd.read_csv(\"X_train.csv\")\n",
    "y_data = pd.read_csv(\"y_train.csv\")"
   ]
  },
  {
   "cell_type": "code",
   "execution_count": 2,
   "metadata": {
    "colab": {},
    "colab_type": "code",
    "id": "szEztGjdB1k6",
    "outputId": "f0b15d2a-e3d8-4565-bfec-1c807040bd2b"
   },
   "outputs": [
    {
     "data": {
      "text/html": [
       "<div>\n",
       "<style scoped>\n",
       "    .dataframe tbody tr th:only-of-type {\n",
       "        vertical-align: middle;\n",
       "    }\n",
       "\n",
       "    .dataframe tbody tr th {\n",
       "        vertical-align: top;\n",
       "    }\n",
       "\n",
       "    .dataframe thead th {\n",
       "        text-align: right;\n",
       "    }\n",
       "</style>\n",
       "<table border=\"1\" class=\"dataframe\">\n",
       "  <thead>\n",
       "    <tr style=\"text-align: right;\">\n",
       "      <th></th>\n",
       "      <th>id</th>\n",
       "      <th>x0</th>\n",
       "      <th>x1</th>\n",
       "      <th>x2</th>\n",
       "      <th>x3</th>\n",
       "      <th>x4</th>\n",
       "      <th>x5</th>\n",
       "      <th>x6</th>\n",
       "      <th>x7</th>\n",
       "      <th>x8</th>\n",
       "      <th>...</th>\n",
       "      <th>x822</th>\n",
       "      <th>x823</th>\n",
       "      <th>x824</th>\n",
       "      <th>x825</th>\n",
       "      <th>x826</th>\n",
       "      <th>x827</th>\n",
       "      <th>x828</th>\n",
       "      <th>x829</th>\n",
       "      <th>x830</th>\n",
       "      <th>x831</th>\n",
       "    </tr>\n",
       "  </thead>\n",
       "  <tbody>\n",
       "    <tr>\n",
       "      <td>0</td>\n",
       "      <td>0.0</td>\n",
       "      <td>116890.145646</td>\n",
       "      <td>4682.826460</td>\n",
       "      <td>102084.432558</td>\n",
       "      <td>988.163180</td>\n",
       "      <td>10412.331659</td>\n",
       "      <td>10.481227</td>\n",
       "      <td>103604.878991</td>\n",
       "      <td>1.095767e+06</td>\n",
       "      <td>100602.794631</td>\n",
       "      <td>...</td>\n",
       "      <td>11.027043</td>\n",
       "      <td>11.009213</td>\n",
       "      <td>1030.608247</td>\n",
       "      <td>1018.364228</td>\n",
       "      <td>108762.467652</td>\n",
       "      <td>105073.764746</td>\n",
       "      <td>7347.221554</td>\n",
       "      <td>8.598623</td>\n",
       "      <td>102506.589322</td>\n",
       "      <td>2.350805</td>\n",
       "    </tr>\n",
       "    <tr>\n",
       "      <td>1</td>\n",
       "      <td>1.0</td>\n",
       "      <td>104149.957877</td>\n",
       "      <td>3161.012055</td>\n",
       "      <td>93566.104799</td>\n",
       "      <td>1037.879907</td>\n",
       "      <td>11232.156777</td>\n",
       "      <td>10.143346</td>\n",
       "      <td>NaN</td>\n",
       "      <td>1.083111e+06</td>\n",
       "      <td>102331.038815</td>\n",
       "      <td>...</td>\n",
       "      <td>NaN</td>\n",
       "      <td>10.391822</td>\n",
       "      <td>1049.620654</td>\n",
       "      <td>972.516069</td>\n",
       "      <td>108773.164038</td>\n",
       "      <td>105822.141259</td>\n",
       "      <td>5687.349133</td>\n",
       "      <td>9.791258</td>\n",
       "      <td>107449.718830</td>\n",
       "      <td>2.278208</td>\n",
       "    </tr>\n",
       "    <tr>\n",
       "      <td>2</td>\n",
       "      <td>2.0</td>\n",
       "      <td>91332.402246</td>\n",
       "      <td>3922.735224</td>\n",
       "      <td>108810.999713</td>\n",
       "      <td>1008.536233</td>\n",
       "      <td>12030.362103</td>\n",
       "      <td>10.811671</td>\n",
       "      <td>107372.736023</td>\n",
       "      <td>1.075590e+06</td>\n",
       "      <td>104247.270565</td>\n",
       "      <td>...</td>\n",
       "      <td>10.648721</td>\n",
       "      <td>10.979466</td>\n",
       "      <td>973.772111</td>\n",
       "      <td>1068.819601</td>\n",
       "      <td>106851.090304</td>\n",
       "      <td>104651.998344</td>\n",
       "      <td>6510.915424</td>\n",
       "      <td>10.993281</td>\n",
       "      <td>107366.747806</td>\n",
       "      <td>2.171415</td>\n",
       "    </tr>\n",
       "    <tr>\n",
       "      <td>3</td>\n",
       "      <td>3.0</td>\n",
       "      <td>93281.714961</td>\n",
       "      <td>3707.283134</td>\n",
       "      <td>86947.473251</td>\n",
       "      <td>947.048927</td>\n",
       "      <td>10037.466655</td>\n",
       "      <td>10.208015</td>\n",
       "      <td>NaN</td>\n",
       "      <td>1.042872e+06</td>\n",
       "      <td>103283.424614</td>\n",
       "      <td>...</td>\n",
       "      <td>10.255209</td>\n",
       "      <td>10.566875</td>\n",
       "      <td>918.617516</td>\n",
       "      <td>NaN</td>\n",
       "      <td>104245.538474</td>\n",
       "      <td>102301.224747</td>\n",
       "      <td>NaN</td>\n",
       "      <td>9.845355</td>\n",
       "      <td>100865.094552</td>\n",
       "      <td>2.222927</td>\n",
       "    </tr>\n",
       "    <tr>\n",
       "      <td>4</td>\n",
       "      <td>4.0</td>\n",
       "      <td>88434.057156</td>\n",
       "      <td>5184.106152</td>\n",
       "      <td>85396.992336</td>\n",
       "      <td>1101.076469</td>\n",
       "      <td>10083.474388</td>\n",
       "      <td>10.124108</td>\n",
       "      <td>109507.125721</td>\n",
       "      <td>1.013667e+06</td>\n",
       "      <td>102676.240326</td>\n",
       "      <td>...</td>\n",
       "      <td>10.482693</td>\n",
       "      <td>10.784100</td>\n",
       "      <td>945.230640</td>\n",
       "      <td>1032.396697</td>\n",
       "      <td>106180.279333</td>\n",
       "      <td>104253.493703</td>\n",
       "      <td>6586.500123</td>\n",
       "      <td>11.953965</td>\n",
       "      <td>101665.694524</td>\n",
       "      <td>2.057716</td>\n",
       "    </tr>\n",
       "  </tbody>\n",
       "</table>\n",
       "<p>5 rows × 829 columns</p>\n",
       "</div>"
      ],
      "text/plain": [
       "    id             x0           x1             x2           x3            x4  \\\n",
       "0  0.0  116890.145646  4682.826460  102084.432558   988.163180  10412.331659   \n",
       "1  1.0  104149.957877  3161.012055   93566.104799  1037.879907  11232.156777   \n",
       "2  2.0   91332.402246  3922.735224  108810.999713  1008.536233  12030.362103   \n",
       "3  3.0   93281.714961  3707.283134   86947.473251   947.048927  10037.466655   \n",
       "4  4.0   88434.057156  5184.106152   85396.992336  1101.076469  10083.474388   \n",
       "\n",
       "          x5             x6            x7             x8  ...       x822  \\\n",
       "0  10.481227  103604.878991  1.095767e+06  100602.794631  ...  11.027043   \n",
       "1  10.143346            NaN  1.083111e+06  102331.038815  ...        NaN   \n",
       "2  10.811671  107372.736023  1.075590e+06  104247.270565  ...  10.648721   \n",
       "3  10.208015            NaN  1.042872e+06  103283.424614  ...  10.255209   \n",
       "4  10.124108  109507.125721  1.013667e+06  102676.240326  ...  10.482693   \n",
       "\n",
       "        x823         x824         x825           x826           x827  \\\n",
       "0  11.009213  1030.608247  1018.364228  108762.467652  105073.764746   \n",
       "1  10.391822  1049.620654   972.516069  108773.164038  105822.141259   \n",
       "2  10.979466   973.772111  1068.819601  106851.090304  104651.998344   \n",
       "3  10.566875   918.617516          NaN  104245.538474  102301.224747   \n",
       "4  10.784100   945.230640  1032.396697  106180.279333  104253.493703   \n",
       "\n",
       "          x828       x829           x830      x831  \n",
       "0  7347.221554   8.598623  102506.589322  2.350805  \n",
       "1  5687.349133   9.791258  107449.718830  2.278208  \n",
       "2  6510.915424  10.993281  107366.747806  2.171415  \n",
       "3          NaN   9.845355  100865.094552  2.222927  \n",
       "4  6586.500123  11.953965  101665.694524  2.057716  \n",
       "\n",
       "[5 rows x 829 columns]"
      ]
     },
     "execution_count": 2,
     "metadata": {},
     "output_type": "execute_result"
    }
   ],
   "source": [
    "# drop low-variance features\n",
    "#ix_drop=np.argwhere(X_data.std() < 1)\n",
    "#ix_drop= ix_drop.flatten().tolist()\n",
    "#X_validation_data = X_validation_data.drop(X_validation_data.columns[ix_drop], axis=1)\n",
    "#X_data = X_data.drop(X_data.columns[ix_drop], axis=1)\n",
    "\n",
    "# drop high-variance features\n",
    "#ix_drop=np.argwhere(X_data.std() > 10000)\n",
    "#ix_drop= ix_drop.flatten().tolist()\n",
    "#X_validation_data = X_validation_data.drop(X_validation_data.columns[ix_drop], axis=1)\n",
    "#X_data = X_data.drop(X_data.columns[ix_drop], axis=1)\n",
    "\n",
    "X_validation_data = X_validation_data.drop(['x169','x283','x367','x777'],axis =1) # delete \"0\"-columns\n",
    "X_validation_data.head()"
   ]
  },
  {
   "cell_type": "code",
   "execution_count": 3,
   "metadata": {},
   "outputs": [
    {
     "data": {
      "text/html": [
       "<div>\n",
       "<style scoped>\n",
       "    .dataframe tbody tr th:only-of-type {\n",
       "        vertical-align: middle;\n",
       "    }\n",
       "\n",
       "    .dataframe tbody tr th {\n",
       "        vertical-align: top;\n",
       "    }\n",
       "\n",
       "    .dataframe thead th {\n",
       "        text-align: right;\n",
       "    }\n",
       "</style>\n",
       "<table border=\"1\" class=\"dataframe\">\n",
       "  <thead>\n",
       "    <tr style=\"text-align: right;\">\n",
       "      <th></th>\n",
       "      <th>id</th>\n",
       "      <th>x0</th>\n",
       "      <th>x1</th>\n",
       "      <th>x2</th>\n",
       "      <th>x3</th>\n",
       "      <th>x4</th>\n",
       "      <th>x5</th>\n",
       "      <th>x6</th>\n",
       "      <th>x7</th>\n",
       "      <th>x8</th>\n",
       "      <th>...</th>\n",
       "      <th>x822</th>\n",
       "      <th>x823</th>\n",
       "      <th>x824</th>\n",
       "      <th>x825</th>\n",
       "      <th>x826</th>\n",
       "      <th>x827</th>\n",
       "      <th>x828</th>\n",
       "      <th>x829</th>\n",
       "      <th>x830</th>\n",
       "      <th>x831</th>\n",
       "    </tr>\n",
       "  </thead>\n",
       "  <tbody>\n",
       "    <tr>\n",
       "      <td>0</td>\n",
       "      <td>0.0</td>\n",
       "      <td>118345.392781</td>\n",
       "      <td>3104.010883</td>\n",
       "      <td>82378.542430</td>\n",
       "      <td>1086.678601</td>\n",
       "      <td>11395.883550</td>\n",
       "      <td>10.455601</td>\n",
       "      <td>109886.476608</td>\n",
       "      <td>1.054926e+06</td>\n",
       "      <td>101877.946528</td>\n",
       "      <td>...</td>\n",
       "      <td>10.769524</td>\n",
       "      <td>10.245068</td>\n",
       "      <td>1021.907543</td>\n",
       "      <td>1031.645762</td>\n",
       "      <td>107440.039766</td>\n",
       "      <td>107083.296966</td>\n",
       "      <td>5559.203921</td>\n",
       "      <td>10.861464</td>\n",
       "      <td>107548.413675</td>\n",
       "      <td>2.299202</td>\n",
       "    </tr>\n",
       "    <tr>\n",
       "      <td>1</td>\n",
       "      <td>1.0</td>\n",
       "      <td>NaN</td>\n",
       "      <td>5889.055991</td>\n",
       "      <td>97932.067482</td>\n",
       "      <td>1116.564363</td>\n",
       "      <td>12172.212426</td>\n",
       "      <td>10.502997</td>\n",
       "      <td>100372.504488</td>\n",
       "      <td>1.011783e+06</td>\n",
       "      <td>108852.296962</td>\n",
       "      <td>...</td>\n",
       "      <td>10.859822</td>\n",
       "      <td>10.088023</td>\n",
       "      <td>988.135968</td>\n",
       "      <td>999.044639</td>\n",
       "      <td>105238.779040</td>\n",
       "      <td>106365.468525</td>\n",
       "      <td>10334.091649</td>\n",
       "      <td>NaN</td>\n",
       "      <td>107841.227180</td>\n",
       "      <td>2.472763</td>\n",
       "    </tr>\n",
       "    <tr>\n",
       "      <td>2</td>\n",
       "      <td>2.0</td>\n",
       "      <td>95373.022035</td>\n",
       "      <td>6293.442455</td>\n",
       "      <td>93371.369288</td>\n",
       "      <td>1034.722073</td>\n",
       "      <td>11618.142107</td>\n",
       "      <td>10.947611</td>\n",
       "      <td>109337.757279</td>\n",
       "      <td>1.006491e+06</td>\n",
       "      <td>104540.883376</td>\n",
       "      <td>...</td>\n",
       "      <td>10.356015</td>\n",
       "      <td>10.514234</td>\n",
       "      <td>995.480813</td>\n",
       "      <td>898.329758</td>\n",
       "      <td>107044.005199</td>\n",
       "      <td>102704.104686</td>\n",
       "      <td>7697.875887</td>\n",
       "      <td>10.277760</td>\n",
       "      <td>103414.594212</td>\n",
       "      <td>NaN</td>\n",
       "    </tr>\n",
       "    <tr>\n",
       "      <td>3</td>\n",
       "      <td>3.0</td>\n",
       "      <td>105066.272301</td>\n",
       "      <td>3279.162164</td>\n",
       "      <td>119554.079514</td>\n",
       "      <td>1114.014483</td>\n",
       "      <td>12127.235755</td>\n",
       "      <td>10.540204</td>\n",
       "      <td>106215.391332</td>\n",
       "      <td>1.022381e+06</td>\n",
       "      <td>109597.474506</td>\n",
       "      <td>...</td>\n",
       "      <td>10.609811</td>\n",
       "      <td>10.991861</td>\n",
       "      <td>1117.179063</td>\n",
       "      <td>867.267810</td>\n",
       "      <td>100617.082858</td>\n",
       "      <td>108893.304959</td>\n",
       "      <td>6549.131099</td>\n",
       "      <td>9.337688</td>\n",
       "      <td>105722.857008</td>\n",
       "      <td>2.484935</td>\n",
       "    </tr>\n",
       "    <tr>\n",
       "      <td>4</td>\n",
       "      <td>4.0</td>\n",
       "      <td>98957.033333</td>\n",
       "      <td>4177.482190</td>\n",
       "      <td>97239.708338</td>\n",
       "      <td>1049.430921</td>\n",
       "      <td>10417.250336</td>\n",
       "      <td>10.618957</td>\n",
       "      <td>102736.470171</td>\n",
       "      <td>1.086871e+06</td>\n",
       "      <td>103340.057448</td>\n",
       "      <td>...</td>\n",
       "      <td>10.397777</td>\n",
       "      <td>NaN</td>\n",
       "      <td>863.943966</td>\n",
       "      <td>1041.278922</td>\n",
       "      <td>105352.672454</td>\n",
       "      <td>101705.692839</td>\n",
       "      <td>5388.312773</td>\n",
       "      <td>12.196382</td>\n",
       "      <td>NaN</td>\n",
       "      <td>1.930136</td>\n",
       "    </tr>\n",
       "  </tbody>\n",
       "</table>\n",
       "<p>5 rows × 829 columns</p>\n",
       "</div>"
      ],
      "text/plain": [
       "    id             x0           x1             x2           x3            x4  \\\n",
       "0  0.0  118345.392781  3104.010883   82378.542430  1086.678601  11395.883550   \n",
       "1  1.0            NaN  5889.055991   97932.067482  1116.564363  12172.212426   \n",
       "2  2.0   95373.022035  6293.442455   93371.369288  1034.722073  11618.142107   \n",
       "3  3.0  105066.272301  3279.162164  119554.079514  1114.014483  12127.235755   \n",
       "4  4.0   98957.033333  4177.482190   97239.708338  1049.430921  10417.250336   \n",
       "\n",
       "          x5             x6            x7             x8  ...       x822  \\\n",
       "0  10.455601  109886.476608  1.054926e+06  101877.946528  ...  10.769524   \n",
       "1  10.502997  100372.504488  1.011783e+06  108852.296962  ...  10.859822   \n",
       "2  10.947611  109337.757279  1.006491e+06  104540.883376  ...  10.356015   \n",
       "3  10.540204  106215.391332  1.022381e+06  109597.474506  ...  10.609811   \n",
       "4  10.618957  102736.470171  1.086871e+06  103340.057448  ...  10.397777   \n",
       "\n",
       "        x823         x824         x825           x826           x827  \\\n",
       "0  10.245068  1021.907543  1031.645762  107440.039766  107083.296966   \n",
       "1  10.088023   988.135968   999.044639  105238.779040  106365.468525   \n",
       "2  10.514234   995.480813   898.329758  107044.005199  102704.104686   \n",
       "3  10.991861  1117.179063   867.267810  100617.082858  108893.304959   \n",
       "4        NaN   863.943966  1041.278922  105352.672454  101705.692839   \n",
       "\n",
       "           x828       x829           x830      x831  \n",
       "0   5559.203921  10.861464  107548.413675  2.299202  \n",
       "1  10334.091649        NaN  107841.227180  2.472763  \n",
       "2   7697.875887  10.277760  103414.594212       NaN  \n",
       "3   6549.131099   9.337688  105722.857008  2.484935  \n",
       "4   5388.312773  12.196382            NaN  1.930136  \n",
       "\n",
       "[5 rows x 829 columns]"
      ]
     },
     "execution_count": 3,
     "metadata": {},
     "output_type": "execute_result"
    }
   ],
   "source": [
    "X_data = X_data.drop(['x169','x283','x367','x777'],axis =1)\n",
    "X_data.head()"
   ]
  },
  {
   "cell_type": "markdown",
   "metadata": {
    "colab_type": "text",
    "id": "8kRUzgmFB1k8"
   },
   "source": [
    "# Functions "
   ]
  },
  {
   "cell_type": "code",
   "execution_count": 4,
   "metadata": {
    "colab": {},
    "colab_type": "code",
    "id": "FvhOck1VB1k9"
   },
   "outputs": [],
   "source": [
    "# pre processing\n",
    "def pre_processing(X_data, robust=False, ix=None): \n",
    "    \"\"\"\n",
    "    standardize X and y, returns DataFrame\n",
    "    \"\"\"\n",
    "    Xs = X_data.fillna(X_data.median())\n",
    "    \n",
    "    if robust == True:\n",
    "        scaler = preprocessing.RobustScaler().fit(Xs)\n",
    "    else:\n",
    "        scaler = preprocessing.StandardScaler().fit(Xs)\n",
    "    \n",
    "    Xs = scaler.transform(Xs)\n",
    "    Xs = pd.DataFrame(data=Xs, columns=X_data.columns)\n",
    "    Xs = Xs.drop(\"id\", 1)\n",
    "    \n",
    "    if ix:\n",
    "        Xs = Xs.iloc[:, ix]     \n",
    "    \n",
    "    return Xs\n",
    "   \n",
    "# plot feature selection\n",
    "from sklearn.feature_selection import RFECV # recursive feature elimination and cv selection of best number of features\n",
    "def plot_features(selector):\n",
    "    plt.figure()\n",
    "    plt.xlabel(\"Number of features selected\")\n",
    "    plt.ylabel(\"Cross validation score (nb of correct classifications)\")\n",
    "    plt.plot(range(1, len(selector.grid_scores_) + 1), selector.grid_scores_)\n",
    "    plt.show()\n",
    "    \n",
    "# save result  ( ---> change to YOUR folder path)\n",
    "def export_result(y_pred, name_appendix= \"\"):\n",
    "    y_pred = pd.DataFrame(y_pred)\n",
    "    y_pred.reset_index(level=0, inplace=True)\n",
    "    y_pred.columns = ['id', 'y']\n",
    "    export_to_csv = y_pred.to_csv(\"y_pred\" + \".csv\",index=False )\n",
    "\n",
    "def savetofile(f_name, res):\n",
    "    # f_name='result'\n",
    "    f_n_append = str(round(time.time()))\n",
    "    file_name = f_name + f_n_append[-4:] +'.csv'\n",
    "    print(file_name)\n",
    "    export=pd.DataFrame({'id':np.arange(0,len(res),1),'y':res})\n",
    "    export.to_csv(file_name, index=False)"
   ]
  },
  {
   "cell_type": "markdown",
   "metadata": {
    "colab_type": "text",
    "id": "8Gb4DVtgB1lA"
   },
   "source": [
    "# Pre-process data"
   ]
  },
  {
   "cell_type": "code",
   "execution_count": 5,
   "metadata": {
    "colab": {},
    "colab_type": "code",
    "id": "Fm5a1PsdB1lB"
   },
   "outputs": [],
   "source": [
    "X = pre_processing(X_data, robust=False)\n",
    "X_validation = pre_processing(X_validation_data, robust=False)\n",
    "y = y_data.y"
   ]
  },
  {
   "cell_type": "markdown",
   "metadata": {
    "colab_type": "text",
    "id": "-pFfQXxyB1lE"
   },
   "source": [
    "# Feature Selection (via Recursive Feature Elimination & Ridge Regression)"
   ]
  },
  {
   "cell_type": "code",
   "execution_count": 6,
   "metadata": {
    "colab": {
     "base_uri": "https://localhost:8080/",
     "height": 232
    },
    "colab_type": "code",
    "executionInfo": {
     "elapsed": 1642,
     "status": "error",
     "timestamp": 1572010386162,
     "user": {
      "displayName": "陈文",
      "photoUrl": "",
      "userId": "03953684816869803108"
     },
     "user_tz": -120
    },
    "id": "Y1iEOJRCB1lF",
    "outputId": "d53fbb13-d9ac-456a-db4e-1f8699037014"
   },
   "outputs": [
    {
     "name": "stdout",
     "output_type": "stream",
     "text": [
      "Optimal number of features : 30\n"
     ]
    },
    {
     "data": {
      "image/png": "[encoded data removed]",
      "text/plain": [
       "<Figure size 432x288 with 1 Axes>"
      ]
     },
     "metadata": {
      "needs_background": "light"
     },
     "output_type": "display_data"
    }
   ],
   "source": [
    "# new version: via Ridge Regression\n",
    "ridge = lm.Ridge(alpha=100)\n",
    "selector = RFECV(ridge, step=10, min_features_to_select = 30, scoring='r2', cv=10)\n",
    "selector = selector.fit(X,y)\n",
    "\n",
    "print(\"Optimal number of features : %d\" % np.sum(selector.ranking_ == 1))\n",
    "plot_features(selector)\n",
    "\n",
    "ix_RFE = selector.ranking_ == 1"
   ]
  },
  {
   "cell_type": "markdown",
   "metadata": {
    "colab_type": "text",
    "id": "kQ8DaHT1B1lO"
   },
   "source": [
    "# Cross Validation"
   ]
  },
  {
   "cell_type": "code",
   "execution_count": 7,
   "metadata": {
    "colab": {},
    "colab_type": "code",
    "id": "J07nWY5OB1lQ",
    "outputId": "a432afc0-a1db-40df-cbee-dc463a764080"
   },
   "outputs": [
    {
     "name": "stdout",
     "output_type": "stream",
     "text": [
      "Setting: LinReg, CV \n",
      " R2_score: 0.43 (+/- 0.21)\n"
     ]
    }
   ],
   "source": [
    "reg = lm.LinearRegression()\n",
    "cv_results = modsel.cross_validate(reg, X.iloc[:,ix_RFE], y, cv=10, return_estimator=True,\n",
    "                                   return_train_score=True)\n",
    "print(\"Setting: LinReg, CV \\n\",\"R2_score: %0.2f (+/- %0.2f)\" % \n",
    "      (cv_results['test_score'].mean(), cv_results['test_score'].std() * 2))"
   ]
  },
  {
   "cell_type": "code",
   "execution_count": 8,
   "metadata": {
    "colab": {},
    "colab_type": "code",
    "id": "xc2xz0OhB1lS",
    "outputId": "9f525b98-6821-4bd2-bfad-4d80b8bf9a34"
   },
   "outputs": [
    {
     "name": "stdout",
     "output_type": "stream",
     "text": [
      "Setting: SVR, CV \n",
      " R2_score: 0.48 (+/- 0.11)\n"
     ]
    }
   ],
   "source": [
    "from sklearn import svm\n",
    "svr = svm.SVR(gamma='auto')\n",
    "scores = modsel.cross_val_score(svr, X.iloc[:,ix_RFE], y, cv=10, scoring='r2')\n",
    "print(\"Setting: SVR, CV \\n\",\"R2_score: %0.2f (+/- %0.2f)\" % (scores.mean(),\n",
    "                                              scores.std() * 2))"
   ]
  },
  {
   "cell_type": "markdown",
   "metadata": {
    "colab_type": "text",
    "id": "dnElAxluB1lV"
   },
   "source": [
    "# Model of choice: SVR\n",
    "## Step 1: find good value for tuning parameter C"
   ]
  },
  {
   "cell_type": "code",
   "execution_count": 9,
   "metadata": {
    "colab": {},
    "colab_type": "code",
    "id": "WiiqGT6YB1lV",
    "outputId": "0feacad2-7197-4a70-fda6-8fc63b16e9cd"
   },
   "outputs": [
    {
     "data": {
      "image/png": "[encoded data removed]",
      "text/plain": [
       "<Figure size 432x288 with 1 Axes>"
      ]
     },
     "metadata": {
      "needs_background": "light"
     },
     "output_type": "display_data"
    },
    {
     "name": "stdout",
     "output_type": "stream",
     "text": [
      "Optimal C-Value =  11\n"
     ]
    }
   ],
   "source": [
    "score_mean = []\n",
    "score_conf = []\n",
    "\n",
    "# setting C parameter for SVR\n",
    "C_parameter = np.arange(1,201,10)\n",
    "for i in C_parameter:\n",
    "    svr = svm.SVR(C=i, kernel='rbf', gamma='scale')\n",
    "    scores = modsel.cross_val_score(svr, X.iloc[:,ix_RFE], y, cv=10, scoring='r2')\n",
    "    score_mean.append(scores.mean())\n",
    "    score_conf.append(scores.std() * 2)\n",
    "\n",
    "plt.plot(C_parameter, score_mean, 'r-')\n",
    "plt.fill_between(C_parameter, np.subtract(score_mean,score_conf), \n",
    "                 np.add(score_mean,score_conf), alpha=.5)\n",
    "plt.xlabel(\"C_param\")\n",
    "plt.ylabel(\"R2_score\")\n",
    "plt.show()\n",
    "\n",
    "print(\"Optimal C-Value = \", C_parameter[np.argmax(score_mean)])\n",
    "c_val = C_parameter[np.argmax(score_mean)]"
   ]
  },
  {
   "cell_type": "markdown",
   "metadata": {
    "colab_type": "text",
    "id": "u-MaqwvuB1lZ"
   },
   "source": [
    "## Step 2: Using tuning parameter (c_val), find a good test / train split!"
   ]
  },
  {
   "cell_type": "code",
   "execution_count": 10,
   "metadata": {
    "colab": {},
    "colab_type": "code",
    "id": "9UnyLioLB1ld",
    "outputId": "40f31894-c10f-42f9-9d4e-9cefd81a6a75"
   },
   "outputs": [
    {
     "name": "stdout",
     "output_type": "stream",
     "text": [
      "best score is:  0.7201843288674303  at random state i =  473\n"
     ]
    }
   ],
   "source": [
    "# find a good parametrization\n",
    "score = []\n",
    "for i in np.arange(0,1000):\n",
    "    X_train, X_test, y_train, y_test = modsel.train_test_split(X.iloc[:,ix_RFE], y, test_size=0.1, \n",
    "                                                        random_state=i)\n",
    "    svr = svm.SVR(C=c_val, gamma='auto')\n",
    "    svr.fit(X_train, y_train)\n",
    "    y_pred = svr.predict(X_test)\n",
    "    #print(\"i=\", i, \"/ score is: \" , r2_score(y_test, y_pred) )\n",
    "    score.append(r2_score(y_test, y_pred))\n",
    "\n",
    "print(\"best score is: \", max(score), \" at random state i = \" , np.argmax(score))\n",
    "i_state = np.argmax(score)"
   ]
  },
  {
   "cell_type": "markdown",
   "metadata": {
    "colab_type": "text",
    "id": "MRdcyU1iB1lf"
   },
   "source": [
    "## Step 3: Use the best test/train split to train the final model. Take this model to fit the \"real\" test data (called X_validation)"
   ]
  },
  {
   "cell_type": "code",
   "execution_count": 11,
   "metadata": {
    "colab": {},
    "colab_type": "code",
    "id": "Bw8FYe37B1lf",
    "outputId": "14cf63d8-fa49-47c4-eacf-5f097fbb1c59"
   },
   "outputs": [
    {
     "name": "stdout",
     "output_type": "stream",
     "text": [
      "res8416.csv\n"
     ]
    }
   ],
   "source": [
    "X_train, X_test, y_train, y_test = modsel.train_test_split(X.iloc[:,ix_RFE], y, test_size=0.1, \n",
    "                                                        random_state=i_state)\n",
    "# svr = svm.SVR(C=c_val, gamma='auto')\n",
    "svr = svm.SVR(C=c_val, kernel='rbf', gamma='scale')\n",
    "svr.fit(X_train, y_train)\n",
    "y_pred = svr.predict(X_test)\n",
    "r2_score(y_test, y_pred)\n",
    "import time\n",
    "y_predt = svr.predict(X_validation.iloc[:,ix_RFE])\n",
    "# export_result(y_pred, \"_svr\")\n",
    "savetofile('res',y_predt)\n",
    "# res8416.csv 0.65920431084 public score"
   ]
  },
  {
   "cell_type": "code",
   "execution_count": 12,
   "metadata": {},
   "outputs": [
    {
     "name": "stdout",
     "output_type": "stream",
     "text": [
      "# res8416.csv 0.65920431084 public score\n"
     ]
    }
   ],
   "source": [
    "print(\"# res8416.csv 0.65920431084 public score\")"
   ]
  }
 ],
 "metadata": {
  "colab": {
   "collapsed_sections": [],
   "name": "aml_task_1.ipynb",
   "provenance": [],
   "toc_visible": true
  },
  "kernelspec": {
   "display_name": "Python 3",
   "language": "python",
   "name": "python3"
  },
  "language_info": {
   "codemirror_mode": {
    "name": "ipython",
    "version": 3
   },
   "file_extension": ".py",
   "mimetype": "text/x-python",
   "name": "python",
   "nbconvert_exporter": "python",
   "pygments_lexer": "ipython3",
   "version": "3.7.4"
  }
 },
 "nbformat": 4,
 "nbformat_minor": 1
}
